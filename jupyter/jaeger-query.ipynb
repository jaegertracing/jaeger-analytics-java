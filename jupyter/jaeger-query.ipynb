{
 "cells": [
  {
   "cell_type": "markdown",
   "metadata": {},
   "source": [
    "# Jaeger-query with trace DSL\n",
    "\n",
    "This notebook loads a trace from Jaeger query service and runs analysis on it."
   ]
  },
  {
   "cell_type": "markdown",
   "metadata": {},
   "source": [
    "## Install library to the local maven repository\n",
    "This step is only needed if trace DSL source code has been modified.\n",
    "Open terminal in Jupyter and run the following command:\n",
    "```\n",
    "cd work && ./mvnw clean install -DskipTests\n",
    "```"
   ]
  },
  {
   "cell_type": "code",
   "execution_count": 1,
   "metadata": {},
   "outputs": [],
   "source": [
    "%%loadFromPOM\n",
    "<dependency>\n",
    "  <groupId>com.google.protobuf</groupId>\n",
    "  <artifactId>protobuf-java</artifactId>\n",
    "  <version>3.11.4</version>\n",
    "</dependency>\n",
    "<dependency>\n",
    "  <groupId>com.google.protobuf</groupId>\n",
    "  <artifactId>protobuf-java-util</artifactId>\n",
    "  <version>3.11.4</version>\n",
    "</dependency>\n",
    "<dependency>\n",
    "  <groupId>io.grpc</groupId>\n",
    "  <artifactId>grpc-protobuf</artifactId>\n",
    "  <version>1.28.0</version>\n",
    "</dependency>\n",
    "<dependency>\n",
    "  <groupId>io.grpc</groupId>\n",
    "  <artifactId>grpc-netty</artifactId>\n",
    "  <version>1.28.0</version>\n",
    "</dependency>\n",
    "<dependency>\n",
    "  <groupId>io.grpc</groupId>\n",
    "  <artifactId>grpc-stub</artifactId>\n",
    "  <version>1.28.0</version>\n",
    "</dependency>\n",
    "\n",
    "<dependency>\n",
    "    <groupId>io.prometheus</groupId>\n",
    "    <artifactId>simpleclient_httpserver</artifactId>\n",
    "    <version>0.7.0</version>\n",
    "</dependency>\n",
    "<dependency>\n",
    "    <groupId>org.apache.tinkerpop</groupId>\n",
    "    <artifactId>tinkergraph-gremlin</artifactId>\n",
    "    <version>3.4.3</version>\n",
    "</dependency>\n",
    "<dependency>\n",
    "    <groupId>log4j</groupId>\n",
    "    <artifactId>log4j</artifactId>\n",
    "    <version>1.2.17</version>\n",
    "</dependency>\n"
   ]
  },
  {
   "cell_type": "code",
   "execution_count": 2,
   "metadata": {},
   "outputs": [
    {
     "name": "stdout",
     "output_type": "stream",
     "text": [
      "class io.jaegertracing.analytics.gremlin.Keys\n"
     ]
    }
   ],
   "source": [
    "%maven io.jaegertracing:jaeger-tracedsl:0.2.1-SNAPSHOT\n",
    "%maven io.jaegertracing:jaeger-proto:0.2.1-SNAPSHOT\n",
    "\n",
    "System.out.println(io.jaegertracing.analytics.gremlin.Keys.class);"
   ]
  },
  {
   "cell_type": "markdown",
   "metadata": {},
   "source": [
    "## Run analysis\n",
    "It will display maximum height of the trace"
   ]
  },
  {
   "cell_type": "code",
   "execution_count": 7,
   "metadata": {},
   "outputs": [
    {
     "name": "stdout",
     "output_type": "stream",
     "text": [
      "operationNames: \"/api/traces\"\n",
      "operationNames: \"/api/services\"\n",
      "operationNames: \"/api/traces/{traceID}\"\n",
      "operationNames: \"/api/services/{service}/operations\"\n",
      "operations {\n",
      "  name: \"/api/services/{service}/operations\"\n",
      "  span_kind: \"server\"\n",
      "}\n",
      "operations {\n",
      "  name: \"/api/traces\"\n",
      "  span_kind: \"server\"\n",
      "}\n",
      "operations {\n",
      "  name: \"/api/services\"\n",
      "  span_kind: \"server\"\n",
      "}\n",
      "operations {\n",
      "  name: \"/api/traces/{traceID}\"\n",
      "  span_kind: \"server\"\n",
      "}\n",
      "\n"
     ]
    },
    {
     "ename": "CompilationException",
     "evalue": "",
     "output_type": "error",
     "traceback": [
      "\u001b[1m\u001b[30m|   \u001b[1m\u001b[30mByteString traceId = ByteString.copyFrom(\u001b[0m\u001b[1m\u001b[30m\u001b[41mnew BigInteger(traceId, 16)\u001b[0m\u001b[1m\u001b[30m.toByteArray());\u001b[0m",
      "\u001b[1m\u001b[31mno suitable constructor found for BigInteger(com.google.protobuf.ByteString,int)\u001b[0m",
      "\u001b[1m\u001b[31m    constructor java.math.BigInteger.BigInteger(int,byte[]) is not applicable\u001b[0m",
      "\u001b[1m\u001b[31m      (argument mismatch; com.google.protobuf.ByteString cannot be converted to int)\u001b[0m",
      "\u001b[1m\u001b[31m    constructor java.math.BigInteger.BigInteger(int,int[]) is not applicable\u001b[0m",
      "\u001b[1m\u001b[31m      (argument mismatch; com.google.protobuf.ByteString cannot be converted to int)\u001b[0m",
      "\u001b[1m\u001b[31m    constructor java.math.BigInteger.BigInteger(java.lang.String,int) is not applicable\u001b[0m",
      "\u001b[1m\u001b[31m      (argument mismatch; com.google.protobuf.ByteString cannot be converted to java.lang.String)\u001b[0m",
      "\u001b[1m\u001b[31m    constructor java.math.BigInteger.BigInteger(int,java.util.Random) is not applicable\u001b[0m",
      "\u001b[1m\u001b[31m      (argument mismatch; com.google.protobuf.ByteString cannot be converted to int)\u001b[0m",
      "\u001b[1m\u001b[31m    constructor java.math.BigInteger.BigInteger(int[],int) is not applicable\u001b[0m",
      "\u001b[1m\u001b[31m      (argument mismatch; com.google.protobuf.ByteString cannot be converted to int[])\u001b[0m",
      "\u001b[1m\u001b[31m    constructor java.math.BigInteger.BigInteger(byte[],int) is not applicable\u001b[0m",
      "\u001b[1m\u001b[31m      (argument mismatch; com.google.protobuf.ByteString cannot be converted to byte[])\u001b[0m",
      ""
     ]
    }
   ],
   "source": [
    "import org.apache.tinkerpop.gremlin.structure.Graph;\n",
    "import org.apache.tinkerpop.gremlin.structure.Vertex;\n",
    "import io.jaegertracing.analytics.gremlin.*;\n",
    "import io.jaegertracing.analytics.model.*;\n",
    "import io.jaegertracing.analytics.*;\n",
    "import io.grpc.ManagedChannel;\n",
    "import io.grpc.ManagedChannelBuilder;\n",
    "import io.jaegertracing.api_v2.Query.*;\n",
    "import java.math.BigInteger;\n",
    "import com.google.protobuf.ByteString;\n",
    "import io.jaegertracing.api_v2.QueryServiceGrpc.QueryServiceBlockingStub;\n",
    "import io.jaegertracing.api_v2.QueryServiceGrpc;\n",
    "\n",
    "String queryHostPort = \"192.168.0.150:16686\";\n",
    "String traceId = \"28aac91d30f1512b\";\n",
    "\n",
    "ManagedChannel channel = ManagedChannelBuilder.forTarget(queryHostPort).usePlaintext().build();\n",
    "QueryServiceBlockingStub queryService = QueryServiceGrpc.newBlockingStub(channel);\n",
    "GetOperationsResponse operations = queryService\n",
    "        .getOperations(GetOperationsRequest.newBuilder().setService(\"jaeger-query\").build());\n",
    "System.out.println(operations);\n",
    "\n",
    "ByteString traceId = ByteString.copyFrom(new BigInteger(traceId, 16).toByteArray());\n",
    "Iterator<SpansResponseChunk> traceProto = queryService.getTrace(GetTraceRequest.newBuilder().setTraceId(traceId).build());\n",
    "\n",
    "Trace trace = Converter.toModel(traceProto.next().getSpansList());\n",
    "System.out.println(trace.traceId);\n",
    "\n",
    "Graph graph = GraphCreator.create(trace);\n",
    "int height = TraceHeight.calculate(graph);\n",
    "System.out.println(height);"
   ]
  },
  {
   "cell_type": "markdown",
   "metadata": {},
   "source": [
    "## Write your own data analysis with trace DSL"
   ]
  },
  {
   "cell_type": "code",
   "execution_count": 10,
   "metadata": {},
   "outputs": [
    {
     "name": "stdout",
     "output_type": "stream",
     "text": [
      "multiRead[3af34324f870e57e:53e1f3ef200f8a1], tags = [traceId, spanId, duration, internal.span.format, startTime, operationName, parentId]\n"
     ]
    }
   ],
   "source": [
    "TraceTraversal<Vertex, Vertex> traversal = graph.traversal(TraceTraversalSource.class)\n",
    "        .hasName(\"/api/traces/{traceID}\")\n",
    "        .repeat(__.out())\n",
    "        .until(__.hasName(\"multiRead\"));\n",
    "\n",
    "traversal.forEachRemaining(v -> GraphDSLExamples.printVertex(v));\n"
   ]
  },
  {
   "cell_type": "code",
   "execution_count": null,
   "metadata": {},
   "outputs": [],
   "source": []
  }
 ],
 "metadata": {
  "kernelspec": {
   "display_name": "Java",
   "language": "java",
   "name": "java"
  },
  "language_info": {
   "codemirror_mode": "java",
   "file_extension": ".jshell",
   "mimetype": "text/x-java-source",
   "name": "Java",
   "pygments_lexer": "java",
   "version": "11.0.6+10"
  },
  "pycharm": {
   "stem_cell": {
    "cell_type": "raw",
    "source": [],
    "metadata": {
     "collapsed": false
    }
   }
  }
 },
 "nbformat": 4,
 "nbformat_minor": 2
}
