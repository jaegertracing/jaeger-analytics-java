{
 "cells": [
  {
   "cell_type": "markdown",
   "metadata": {},
   "source": [
    "# Jaeger-query with trace DSL\n",
    "\n",
    "This notebook loads a trace from Jaeger query service and runs analysis on it."
   ]
  },
  {
   "cell_type": "markdown",
   "metadata": {},
   "source": [
    "## Install library to the local maven repository\n",
    "This step is only needed if trace DSL source code has been modified.\n",
    "Open terminal in Jupyter and run the following command:\n",
    "```\n",
    "cd work && ./mvnw clean install -DskipTests\n",
    "```"
   ]
  },
  {
   "cell_type": "code",
   "execution_count": 1,
   "metadata": {},
   "outputs": [],
   "source": [
    "%%loadFromPOM\n",
    "<dependency>\n",
    "    <groupId>com.fasterxml.jackson.core</groupId>\n",
    "    <artifactId>jackson-databind</artifactId>\n",
    "    <version>2.6.7</version>\n",
    "</dependency>\n",
    "<dependency>\n",
    "    <groupId>com.fasterxml.jackson.core</groupId>\n",
    "    <artifactId>jackson-annotations</artifactId>\n",
    "    <version>2.6.7</version>\n",
    "</dependency>\n",
    "<dependency>\n",
    "    <groupId>io.prometheus</groupId>\n",
    "    <artifactId>simpleclient_httpserver</artifactId>\n",
    "    <version>0.7.0</version>\n",
    "</dependency>\n",
    "<dependency>\n",
    "    <groupId>org.apache.tinkerpop</groupId>\n",
    "    <artifactId>tinkergraph-gremlin</artifactId>\n",
    "    <version>3.4.3</version>\n",
    "</dependency>\n",
    "<dependency>\n",
    "    <groupId>log4j</groupId>\n",
    "    <artifactId>log4j</artifactId>\n",
    "    <version>1.2.17</version>\n",
    "</dependency>\n"
   ]
  },
  {
   "cell_type": "code",
   "execution_count": 2,
   "metadata": {},
   "outputs": [
    {
     "name": "stdout",
     "output_type": "stream",
     "text": [
      "class Keys\n"
     ]
    }
   ],
   "source": [
    "%maven io.jaegertracing:jaeger-tracedsl:1.0-SNAPSHOT\n",
    "\n",
    "System.out.println(Keys.class);"
   ]
  },
  {
   "cell_type": "markdown",
   "metadata": {},
   "source": [
    "## Define Jaeger query URL and trace ID"
   ]
  },
  {
   "cell_type": "code",
   "execution_count": 4,
   "metadata": {},
   "outputs": [],
   "source": [
    "String queryUrl = \"http://192.168.122.1:16686/api/traces/\";\n",
    "String traceId = \"3af34324f870e57e\";"
   ]
  },
  {
   "cell_type": "markdown",
   "metadata": {},
   "source": [
    "## Run analysis\n",
    "It will display maximum height of the trace"
   ]
  },
  {
   "cell_type": "code",
   "execution_count": 5,
   "metadata": {},
   "outputs": [
    {
     "name": "stdout",
     "output_type": "stream",
     "text": [
      "3\n"
     ]
    }
   ],
   "source": [
    "import org.apache.tinkerpop.gremlin.structure.Graph;\n",
    "import org.apache.tinkerpop.gremlin.structure.Vertex;\n",
    "import io.jaegertracing.analytics.gremlin.*;\n",
    "import io.jaegertracing.analytics.query.*;\n",
    "import io.jaegertracing.analytics.model.*;\n",
    "\n",
    "Trace trace = JaegerQueryService.load(traceId, queryUrl);\n",
    "Graph graph = GraphCreator.create(trace);\n",
    "int height = TraceHeight.calculate(graph);\n",
    "System.out.println(height);\n"
   ]
  },
  {
   "cell_type": "markdown",
   "metadata": {},
   "source": [
    "## Write your own data analysis with trace DSL"
   ]
  },
  {
   "cell_type": "code",
   "execution_count": 10,
   "metadata": {},
   "outputs": [
    {
     "name": "stdout",
     "output_type": "stream",
     "text": [
      "multiRead[3af34324f870e57e:53e1f3ef200f8a1], tags = [traceId, spanId, duration, internal.span.format, startTime, operationName, parentId]\n"
     ]
    }
   ],
   "source": [
    "TraceTraversal<Vertex, Vertex> traversal = graph.traversal(TraceTraversalSource.class)\n",
    "        .hasName(\"/api/traces/{traceID}\")\n",
    "        .repeat(__.out())\n",
    "        .until(__.hasName(\"multiRead\"));\n",
    "\n",
    "traversal.forEachRemaining(v -> GraphDSLExamples.printVertex(v));\n"
   ]
  },
  {
   "cell_type": "code",
   "execution_count": null,
   "metadata": {},
   "outputs": [],
   "source": []
  }
 ],
 "metadata": {
  "kernelspec": {
   "display_name": "Java",
   "language": "java",
   "name": "java"
  },
  "language_info": {
   "codemirror_mode": "java",
   "file_extension": ".jshell",
   "mimetype": "text/x-java-source",
   "name": "Java",
   "pygments_lexer": "java",
   "version": "11.0.5+10"
  },
  "pycharm": {
   "stem_cell": {
    "cell_type": "raw",
    "source": [],
    "metadata": {
     "collapsed": false
    }
   }
  }
 },
 "nbformat": 4,
 "nbformat_minor": 2
}
